{
  "nbformat": 4,
  "nbformat_minor": 0,
  "metadata": {
    "colab": {
      "name": "Sri Music Ratings Prediction By Reviews.ipynb",
      "provenance": [],
      "collapsed_sections": [],
      "authorship_tag": "ABX9TyPFDbp6N4P1r1ofwCnPKYsZ",
      "include_colab_link": true
    },
    "kernelspec": {
      "name": "python3",
      "display_name": "Python 3"
    },
    "language_info": {
      "name": "python"
    }
  },
  "cells": [
    {
      "cell_type": "markdown",
      "metadata": {
        "id": "view-in-github",
        "colab_type": "text"
      },
      "source": [
        "<a href=\"https://colab.research.google.com/github/SaiPavanKumarB/Music-Review-Ratings-Prediction/blob/main/Sri_Music_Ratings_Prediction_By_Reviews.ipynb\" target=\"_parent\"><img src=\"https://colab.research.google.com/assets/colab-badge.svg\" alt=\"Open In Colab\"/></a>"
      ]
    },
    {
      "cell_type": "markdown",
      "metadata": {
        "id": "-bKLAgt5KNIT"
      },
      "source": [
        "# *Ratings Prediction based on reviews*\n",
        "\n",
        "\n",
        "---\n",
        "\n"
      ]
    },
    {
      "cell_type": "markdown",
      "metadata": {
        "id": "L7TFl05rKCOw"
      },
      "source": [
        "## Import libraries"
      ]
    },
    {
      "cell_type": "code",
      "metadata": {
        "id": "OISZWr6aMDRc",
        "colab": {
          "base_uri": "https://localhost:8080/"
        },
        "outputId": "1baecffd-a624-43cb-9ede-cc4c5136393c"
      },
      "source": [
        "import pandas as pd\n",
        "import json\n",
        "import numpy as np\n",
        "import matplotlib.pyplot as plt\n",
        "%matplotlib inline\n",
        "import seaborn as sns\n",
        "\n",
        "import nltk\n",
        "nltk.download('punkt')\n",
        "from nltk.tokenize import word_tokenize\n",
        "from sklearn.linear_model import LogisticRegression\n",
        "from sklearn.metrics import classification,confusion_matrix,classification_report\n",
        "from sklearn.model_selection import train_test_split\n",
        "from sklearn.feature_extraction.text import TfidfVectorizer\n",
        "\n",
        "import xgboost as xgb\n",
        "from sklearn.naive_bayes import MultinomialNB"
      ],
      "execution_count": 1,
      "outputs": [
        {
          "output_type": "stream",
          "text": [
            "[nltk_data] Downloading package punkt to /root/nltk_data...\n",
            "[nltk_data]   Unzipping tokenizers/punkt.zip.\n"
          ],
          "name": "stdout"
        },
        {
          "output_type": "stream",
          "text": [
            "/usr/local/lib/python3.7/dist-packages/sklearn/utils/deprecation.py:144: FutureWarning: The sklearn.metrics.classification module is  deprecated in version 0.22 and will be removed in version 0.24. The corresponding classes / functions should instead be imported from sklearn.metrics. Anything that cannot be imported from sklearn.metrics is now part of the private API.\n",
            "  warnings.warn(message, FutureWarning)\n"
          ],
          "name": "stderr"
        }
      ]
    },
    {
      "cell_type": "markdown",
      "metadata": {
        "id": "6aHmp8HSPUw5"
      },
      "source": [
        "## Read file"
      ]
    },
    {
      "cell_type": "markdown",
      "metadata": {
        "id": "1EC6tl7PLOeG"
      },
      "source": [
        "The ratings are provided as JSON file, which is loaded to GitHub for easy access.\n",
        "File contains below details/columns\n",
        "\n",
        "\n",
        "*   reviewerID\n",
        "*   asin\n",
        "*   reviewerName\n",
        "*   helpful\n",
        "*   reviewText - This is the main review that should be used for classification\n",
        "*   overall - Ratings (Target column)\n",
        "*   summary - Quick jist of the detailed review\n",
        "*   Unixtime, reviewTime - Time columns\n"
      ]
    },
    {
      "cell_type": "code",
      "metadata": {
        "colab": {
          "base_uri": "https://localhost:8080/",
          "height": 334
        },
        "id": "-voPX06PPgV-",
        "outputId": "19edcbfe-dd24-46aa-e851-743ce602b8ed"
      },
      "source": [
        "url = 'https://raw.githubusercontent.com/SaiPavanKumarB/Music-Review-Ratings-Prediction/main/Musical_Instruments_5.json'\n",
        "df = pd.read_json(url,orient='records',dtype='dict',lines=True)\n",
        "df.head(3)"
      ],
      "execution_count": 2,
      "outputs": [
        {
          "output_type": "execute_result",
          "data": {
            "text/html": [
              "<div>\n",
              "<style scoped>\n",
              "    .dataframe tbody tr th:only-of-type {\n",
              "        vertical-align: middle;\n",
              "    }\n",
              "\n",
              "    .dataframe tbody tr th {\n",
              "        vertical-align: top;\n",
              "    }\n",
              "\n",
              "    .dataframe thead th {\n",
              "        text-align: right;\n",
              "    }\n",
              "</style>\n",
              "<table border=\"1\" class=\"dataframe\">\n",
              "  <thead>\n",
              "    <tr style=\"text-align: right;\">\n",
              "      <th></th>\n",
              "      <th>reviewerID</th>\n",
              "      <th>asin</th>\n",
              "      <th>reviewerName</th>\n",
              "      <th>helpful</th>\n",
              "      <th>reviewText</th>\n",
              "      <th>overall</th>\n",
              "      <th>summary</th>\n",
              "      <th>unixReviewTime</th>\n",
              "      <th>reviewTime</th>\n",
              "    </tr>\n",
              "  </thead>\n",
              "  <tbody>\n",
              "    <tr>\n",
              "      <th>0</th>\n",
              "      <td>A2IBPI20UZIR0U</td>\n",
              "      <td>1384719342</td>\n",
              "      <td>cassandra tu \"Yeah, well, that's just like, u...</td>\n",
              "      <td>[0, 0]</td>\n",
              "      <td>Not much to write about here, but it does exac...</td>\n",
              "      <td>5.0</td>\n",
              "      <td>good</td>\n",
              "      <td>1393545600</td>\n",
              "      <td>02 28, 2014</td>\n",
              "    </tr>\n",
              "    <tr>\n",
              "      <th>1</th>\n",
              "      <td>A14VAT5EAX3D9S</td>\n",
              "      <td>1384719342</td>\n",
              "      <td>Jake</td>\n",
              "      <td>[13, 14]</td>\n",
              "      <td>The product does exactly as it should and is q...</td>\n",
              "      <td>5.0</td>\n",
              "      <td>Jake</td>\n",
              "      <td>1363392000</td>\n",
              "      <td>03 16, 2013</td>\n",
              "    </tr>\n",
              "    <tr>\n",
              "      <th>2</th>\n",
              "      <td>A195EZSQDW3E21</td>\n",
              "      <td>1384719342</td>\n",
              "      <td>Rick Bennette \"Rick Bennette\"</td>\n",
              "      <td>[1, 1]</td>\n",
              "      <td>The primary job of this device is to block the...</td>\n",
              "      <td>5.0</td>\n",
              "      <td>It Does The Job Well</td>\n",
              "      <td>1377648000</td>\n",
              "      <td>08 28, 2013</td>\n",
              "    </tr>\n",
              "  </tbody>\n",
              "</table>\n",
              "</div>"
            ],
            "text/plain": [
              "       reviewerID        asin  ... unixReviewTime   reviewTime\n",
              "0  A2IBPI20UZIR0U  1384719342  ...     1393545600  02 28, 2014\n",
              "1  A14VAT5EAX3D9S  1384719342  ...     1363392000  03 16, 2013\n",
              "2  A195EZSQDW3E21  1384719342  ...     1377648000  08 28, 2013\n",
              "\n",
              "[3 rows x 9 columns]"
            ]
          },
          "metadata": {
            "tags": []
          },
          "execution_count": 2
        }
      ]
    },
    {
      "cell_type": "code",
      "metadata": {
        "colab": {
          "base_uri": "https://localhost:8080/"
        },
        "id": "cYM2tJn9Spfv",
        "outputId": "1ae54cb5-ae42-4784-caa2-5ac4a1bdb783"
      },
      "source": [
        "df.shape"
      ],
      "execution_count": 3,
      "outputs": [
        {
          "output_type": "execute_result",
          "data": {
            "text/plain": [
              "(10261, 9)"
            ]
          },
          "metadata": {
            "tags": []
          },
          "execution_count": 3
        }
      ]
    },
    {
      "cell_type": "code",
      "metadata": {
        "id": "ENWqlhAhNhQX"
      },
      "source": [
        "# convert the target column data type to int\n",
        "df['overall'] = df['overall'].astype(int)"
      ],
      "execution_count": 4,
      "outputs": []
    },
    {
      "cell_type": "markdown",
      "metadata": {
        "id": "icGWGkMmNWjg"
      },
      "source": [
        "## Is the data balanced?"
      ]
    },
    {
      "cell_type": "code",
      "metadata": {
        "colab": {
          "base_uri": "https://localhost:8080/",
          "height": 276
        },
        "id": "ncUSjj79NJVL",
        "outputId": "aed0c7e0-2413-4f51-dca3-f2d997f065ab"
      },
      "source": [
        "# Check the target column distribution\n",
        "df['overall'].value_counts().plot(kind='bar')\n",
        "plt.xlabel('Ratings')\n",
        "plt.ylabel('Count')\n",
        "plt.show()"
      ],
      "execution_count": 5,
      "outputs": [
        {
          "output_type": "display_data",
          "data": {
            "image/png": "[encoded data removed]",
            "text/plain": [
              "<Figure size 432x288 with 1 Axes>"
            ]
          },
          "metadata": {
            "tags": [],
            "needs_background": "light"
          }
        }
      ]
    },
    {
      "cell_type": "markdown",
      "metadata": {
        "id": "x7obpI61Nowh"
      },
      "source": [
        "The dataset is highly imbalanced as there are more records for ratings 4,5 compared to the rest 3 ratings"
      ]
    },
    {
      "cell_type": "markdown",
      "metadata": {
        "id": "OyDP1LaSPUeS"
      },
      "source": [
        "Let's split the helpful column (list) to 2 seperate columns to see if it has something to say"
      ]
    },
    {
      "cell_type": "code",
      "metadata": {
        "id": "IRHNXIo2OSfH"
      },
      "source": [
        "df[['helpful_1','helpful_2']] = pd.DataFrame(df['helpful'].to_list())"
      ],
      "execution_count": 6,
      "outputs": []
    },
    {
      "cell_type": "markdown",
      "metadata": {
        "id": "Q6FAj5URPv2T"
      },
      "source": [
        "## Base line model (using reviews alone)"
      ]
    },
    {
      "cell_type": "markdown",
      "metadata": {
        "id": "RDLggafEP0Lg"
      },
      "source": [
        "Let's create a base line model following the below steps\n",
        "*   Create dataframe using review & ratings alone\n",
        "*   Tokenize the reviews\n",
        "*   Create TF-IDF sparse matrix\n",
        "*   Create Logistic Regression model\n",
        "\n",
        "\n",
        "\n",
        "\n",
        "\n",
        "\n",
        "\n"
      ]
    },
    {
      "cell_type": "code",
      "metadata": {
        "colab": {
          "base_uri": "https://localhost:8080/",
          "height": 247
        },
        "id": "mxVztiAOPut8",
        "outputId": "6fab465b-c53c-4364-945d-6ad040d2e671"
      },
      "source": [
        "review_df = df[['reviewText','overall']]\n",
        "review_df.rename({'reviewText':'Review','overall':'Rating'},axis=1,inplace=True)\n",
        "review_df.head(3)"
      ],
      "execution_count": 7,
      "outputs": [
        {
          "output_type": "stream",
          "text": [
            "/usr/local/lib/python3.7/dist-packages/pandas/core/frame.py:4308: SettingWithCopyWarning: \n",
            "A value is trying to be set on a copy of a slice from a DataFrame\n",
            "\n",
            "See the caveats in the documentation: https://pandas.pydata.org/pandas-docs/stable/user_guide/indexing.html#returning-a-view-versus-a-copy\n",
            "  errors=errors,\n"
          ],
          "name": "stderr"
        },
        {
          "output_type": "execute_result",
          "data": {
            "text/html": [
              "<div>\n",
              "<style scoped>\n",
              "    .dataframe tbody tr th:only-of-type {\n",
              "        vertical-align: middle;\n",
              "    }\n",
              "\n",
              "    .dataframe tbody tr th {\n",
              "        vertical-align: top;\n",
              "    }\n",
              "\n",
              "    .dataframe thead th {\n",
              "        text-align: right;\n",
              "    }\n",
              "</style>\n",
              "<table border=\"1\" class=\"dataframe\">\n",
              "  <thead>\n",
              "    <tr style=\"text-align: right;\">\n",
              "      <th></th>\n",
              "      <th>Review</th>\n",
              "      <th>Rating</th>\n",
              "    </tr>\n",
              "  </thead>\n",
              "  <tbody>\n",
              "    <tr>\n",
              "      <th>0</th>\n",
              "      <td>Not much to write about here, but it does exac...</td>\n",
              "      <td>5</td>\n",
              "    </tr>\n",
              "    <tr>\n",
              "      <th>1</th>\n",
              "      <td>The product does exactly as it should and is q...</td>\n",
              "      <td>5</td>\n",
              "    </tr>\n",
              "    <tr>\n",
              "      <th>2</th>\n",
              "      <td>The primary job of this device is to block the...</td>\n",
              "      <td>5</td>\n",
              "    </tr>\n",
              "  </tbody>\n",
              "</table>\n",
              "</div>"
            ],
            "text/plain": [
              "                                              Review  Rating\n",
              "0  Not much to write about here, but it does exac...       5\n",
              "1  The product does exactly as it should and is q...       5\n",
              "2  The primary job of this device is to block the...       5"
            ]
          },
          "metadata": {
            "tags": []
          },
          "execution_count": 7
        }
      ]
    },
    {
      "cell_type": "markdown",
      "metadata": {
        "id": "2yiQQLU5SzHP"
      },
      "source": [
        "Split to train test with 80:20 ratio"
      ]
    },
    {
      "cell_type": "code",
      "metadata": {
        "colab": {
          "base_uri": "https://localhost:8080/"
        },
        "id": "EGujegb3S5PV",
        "outputId": "6ecb62ee-2950-4a0f-8531-7bef8a216e4a"
      },
      "source": [
        "review_df['Rating'] = review_df['Rating'].astype('category')\n",
        "X = review_df.Review\n",
        "y = review_df.Rating\n",
        "\n",
        "X_train,X_test,y_train,y_test = train_test_split(X,y,test_size=0.2,random_state=10)"
      ],
      "execution_count": 8,
      "outputs": [
        {
          "output_type": "stream",
          "text": [
            "/usr/local/lib/python3.7/dist-packages/ipykernel_launcher.py:1: SettingWithCopyWarning: \n",
            "A value is trying to be set on a copy of a slice from a DataFrame.\n",
            "Try using .loc[row_indexer,col_indexer] = value instead\n",
            "\n",
            "See the caveats in the documentation: https://pandas.pydata.org/pandas-docs/stable/user_guide/indexing.html#returning-a-view-versus-a-copy\n",
            "  \"\"\"Entry point for launching an IPython kernel.\n"
          ],
          "name": "stderr"
        }
      ]
    },
    {
      "cell_type": "markdown",
      "metadata": {
        "id": "z4nvSOTpckOE"
      },
      "source": [
        "### TF-IDF Vectorizor\n",
        "While using TF-IDF, we are considering the below\n",
        "*   min_df is set to 5 i.e. consider word only when it's in atleast 5 reviews\n",
        "*   Consider bigrams as well\n",
        "\n"
      ]
    },
    {
      "cell_type": "code",
      "metadata": {
        "colab": {
          "base_uri": "https://localhost:8080/"
        },
        "id": "VMWtqWiSRvLv",
        "outputId": "a03df958-4ced-464c-ea37-3327e8f9c3d7"
      },
      "source": [
        "# Fit the TfIDF on train data set & transform both train & test datasets\n",
        "tfidf_vec = TfidfVectorizer(tokenizer=word_tokenize,lowercase=True,\n",
        "                            sublinear_tf=True, min_df=5, ngram_range=(1, 2), stop_words='english')\n",
        "tfidf_vec.fit(X_train)\n",
        "\n",
        "xtrain = tfidf_vec.transform(X_train)\n",
        "xtest = tfidf_vec.transform(X_test)"
      ],
      "execution_count": 9,
      "outputs": [
        {
          "output_type": "stream",
          "text": [
            "/usr/local/lib/python3.7/dist-packages/sklearn/feature_extraction/text.py:507: UserWarning: The parameter 'token_pattern' will not be used since 'tokenizer' is not None'\n",
            "  warnings.warn(\"The parameter 'token_pattern' will not be used\"\n"
          ],
          "name": "stderr"
        }
      ]
    },
    {
      "cell_type": "markdown",
      "metadata": {
        "id": "YPp5MnCCUsxH"
      },
      "source": [
        "### Logistic Regression (with class_weights = 'balanced')"
      ]
    },
    {
      "cell_type": "code",
      "metadata": {
        "id": "sG9VlSURP7MS"
      },
      "source": [
        ""
      ],
      "execution_count": null,
      "outputs": []
    },
    {
      "cell_type": "code",
      "metadata": {
        "colab": {
          "base_uri": "https://localhost:8080/",
          "height": 597
        },
        "id": "KVtoEvyVSx_D",
        "outputId": "9a29a390-161a-4166-c466-2763909c89c0"
      },
      "source": [
        "lg_model = LogisticRegression(class_weight='balanced',multi_class='auto',max_iter=1000) # Allow model to calculate class weights\n",
        "lg_model.fit(xtrain,y_train)\n",
        "\n",
        "preds = lg_model.predict(xtest)\n",
        "print('\\n')\n",
        "print('Classification Report')\n",
        "print('*'*30)\n",
        "print(classification_report(y_test,preds))\n",
        "class_rpt = classification_report(y_test,preds)\n",
        "class_rpt\n",
        "\n",
        "\n",
        "print('Confusion Matrix')\n",
        "print('*'*30)\n",
        "cm = confusion_matrix(y_test,preds)\n",
        "cm = pd.DataFrame(cm)\n",
        "sns.heatmap(cm,annot=True,\n",
        "            xticklabels=(pd.DataFrame(cm).index+1),\n",
        "            yticklabels=(pd.DataFrame(cm).index+1))"
      ],
      "execution_count": 33,
      "outputs": [
        {
          "output_type": "stream",
          "text": [
            "\n",
            "\n",
            "Classification Report\n",
            "******************************\n",
            "              precision    recall  f1-score   support\n",
            "\n",
            "           1       0.30      0.24      0.27        42\n",
            "           2       0.16      0.14      0.15        56\n",
            "           3       0.25      0.40      0.31       149\n",
            "           4       0.33      0.39      0.36       435\n",
            "           5       0.82      0.74      0.78      1371\n",
            "\n",
            "    accuracy                           0.61      2053\n",
            "   macro avg       0.37      0.38      0.37      2053\n",
            "weighted avg       0.65      0.61      0.63      2053\n",
            "\n",
            "Confusion Matrix\n",
            "******************************\n"
          ],
          "name": "stdout"
        },
        {
          "output_type": "execute_result",
          "data": {
            "text/plain": [
              "<matplotlib.axes._subplots.AxesSubplot at 0x7fe4242f9490>"
            ]
          },
          "metadata": {
            "tags": []
          },
          "execution_count": 33
        },
        {
          "output_type": "display_data",
          "data": {
            "image/png": "[encoded data removed]",
            "text/plain": [
              "<Figure size 432x288 with 2 Axes>"
            ]
          },
          "metadata": {
            "tags": [],
            "needs_background": "light"
          }
        }
      ]
    },
    {
      "cell_type": "markdown",
      "metadata": {
        "id": "NS2hljaQXri9"
      },
      "source": [
        "Not so great performance. Still the model is predicting rating 5 which is why we have better precision/recall for 5 alone"
      ]
    },
    {
      "cell_type": "markdown",
      "metadata": {
        "id": "85AWln6AYLts"
      },
      "source": [
        "### XgBoost"
      ]
    },
    {
      "cell_type": "code",
      "metadata": {
        "colab": {
          "base_uri": "https://localhost:8080/"
        },
        "id": "oPQqiTByYLEd",
        "outputId": "13dd6bee-f8f3-4b50-8b4f-3739598517b3"
      },
      "source": [
        "xgb_clf = xgb.XGBClassifier(n_estimators=200,learning_rate=0.05,max_depth=6,objective='multi:softprob',random_state=10)\n",
        "xgb_clf.fit(xtrain,y_train)\n",
        "\n",
        "preds = xgb_clf.predict(xtest)\n",
        "\n",
        "print('Confusion Matrix')\n",
        "print('*'*30)\n",
        "cm = confusion_matrix(y_test,preds)\n",
        "print(cm)\n",
        "\n",
        "print('\\n')\n",
        "print('Classification Report')\n",
        "print('*'*30)\n",
        "print(classification_report(y_test,preds))"
      ],
      "execution_count": 11,
      "outputs": [
        {
          "output_type": "stream",
          "text": [
            "Confusion Matrix\n",
            "******************************\n",
            "[[   0    0    1    0   41]\n",
            " [   0    0    1    5   50]\n",
            " [   0    0    8   14  127]\n",
            " [   0    1    3   42  389]\n",
            " [   0    0    3   20 1348]]\n",
            "\n",
            "\n",
            "Classification Report\n",
            "******************************\n",
            "              precision    recall  f1-score   support\n",
            "\n",
            "           1       0.00      0.00      0.00        42\n",
            "           2       0.00      0.00      0.00        56\n",
            "           3       0.50      0.05      0.10       149\n",
            "           4       0.52      0.10      0.16       435\n",
            "           5       0.69      0.98      0.81      1371\n",
            "\n",
            "    accuracy                           0.68      2053\n",
            "   macro avg       0.34      0.23      0.21      2053\n",
            "weighted avg       0.61      0.68      0.58      2053\n",
            "\n"
          ],
          "name": "stdout"
        },
        {
          "output_type": "stream",
          "text": [
            "/usr/local/lib/python3.7/dist-packages/sklearn/metrics/_classification.py:1272: UndefinedMetricWarning: Precision and F-score are ill-defined and being set to 0.0 in labels with no predicted samples. Use `zero_division` parameter to control this behavior.\n",
            "  _warn_prf(average, modifier, msg_start, len(result))\n"
          ],
          "name": "stderr"
        }
      ]
    },
    {
      "cell_type": "markdown",
      "metadata": {
        "id": "kwdrlsoue5N-"
      },
      "source": [
        "Not great"
      ]
    },
    {
      "cell_type": "markdown",
      "metadata": {
        "id": "vLIaBJW1fFDz"
      },
      "source": [
        "### Naive Bayes"
      ]
    },
    {
      "cell_type": "code",
      "metadata": {
        "colab": {
          "base_uri": "https://localhost:8080/"
        },
        "id": "JYL7AurLe7O3",
        "outputId": "2741b16d-b017-4d5b-a7ef-c6b3845ef03c"
      },
      "source": [
        "NB_clf = MultinomialNB()\n",
        "NB_clf.fit(xtrain,y_train)\n",
        "\n",
        "preds = NB_clf.predict(xtest)\n",
        "\n",
        "print('Confusion Matrix')\n",
        "print('*'*30)\n",
        "cm = confusion_matrix(y_test,preds)\n",
        "print(cm)\n",
        "\n",
        "print('\\n')\n",
        "print('Classification Report')\n",
        "print('*'*30)\n",
        "print(classification_report(y_test,preds))"
      ],
      "execution_count": 12,
      "outputs": [
        {
          "output_type": "stream",
          "text": [
            "Confusion Matrix\n",
            "******************************\n",
            "[[   0    0    0    0   42]\n",
            " [   0    0    0    0   56]\n",
            " [   0    0    0    0  149]\n",
            " [   0    0    0    0  435]\n",
            " [   0    0    0    0 1371]]\n",
            "\n",
            "\n",
            "Classification Report\n",
            "******************************\n",
            "              precision    recall  f1-score   support\n",
            "\n",
            "           1       0.00      0.00      0.00        42\n",
            "           2       0.00      0.00      0.00        56\n",
            "           3       0.00      0.00      0.00       149\n",
            "           4       0.00      0.00      0.00       435\n",
            "           5       0.67      1.00      0.80      1371\n",
            "\n",
            "    accuracy                           0.67      2053\n",
            "   macro avg       0.13      0.20      0.16      2053\n",
            "weighted avg       0.45      0.67      0.53      2053\n",
            "\n"
          ],
          "name": "stdout"
        },
        {
          "output_type": "stream",
          "text": [
            "/usr/local/lib/python3.7/dist-packages/sklearn/metrics/_classification.py:1272: UndefinedMetricWarning: Precision and F-score are ill-defined and being set to 0.0 in labels with no predicted samples. Use `zero_division` parameter to control this behavior.\n",
            "  _warn_prf(average, modifier, msg_start, len(result))\n"
          ],
          "name": "stderr"
        }
      ]
    },
    {
      "cell_type": "markdown",
      "metadata": {
        "id": "5KIH_ZHogTMJ"
      },
      "source": [
        "### XgBoost With Class Weights"
      ]
    },
    {
      "cell_type": "code",
      "metadata": {
        "colab": {
          "base_uri": "https://localhost:8080/"
        },
        "id": "GA8Ve4WpgXR_",
        "outputId": "3cb7a699-cc66-4461-c046-a87f1cf60911"
      },
      "source": [
        "from sklearn.utils import class_weight\n",
        "\n",
        "class_weights = list(class_weight.compute_class_weight('balanced',\n",
        "                                                       np.unique(y_train),\n",
        "                                                       y_train))\n",
        "class_weights"
      ],
      "execution_count": 13,
      "outputs": [
        {
          "output_type": "execute_result",
          "data": {
            "text/plain": [
              "[9.380571428571429,\n",
              " 8.461855670103093,\n",
              " 2.634991974317817,\n",
              " 0.9955124317768345,\n",
              " 0.29488054607508535]"
            ]
          },
          "metadata": {
            "tags": []
          },
          "execution_count": 13
        }
      ]
    },
    {
      "cell_type": "markdown",
      "metadata": {
        "id": "iLc5DjFBhIQw"
      },
      "source": [
        "Create a weight vector"
      ]
    },
    {
      "cell_type": "code",
      "metadata": {
        "colab": {
          "base_uri": "https://localhost:8080/"
        },
        "id": "AJojAF1uhGvS",
        "outputId": "32509a05-49f2-40a6-e0fb-8b2a5d95f394"
      },
      "source": [
        "weights = np.ones(X_train.shape[0],dtype='float')\n",
        "\n",
        "for i,val in enumerate(review_df.loc[y_train.index]['Rating']):\n",
        "  weights[i] = class_weights[val-1] # -1 because ratings are from 1-5 whereas index will be from 0 to 4\n",
        "\n",
        "print(weights)"
      ],
      "execution_count": 14,
      "outputs": [
        {
          "output_type": "stream",
          "text": [
            "[0.99551243 0.99551243 0.29488055 ... 0.29488055 0.29488055 0.99551243]\n"
          ],
          "name": "stdout"
        }
      ]
    },
    {
      "cell_type": "code",
      "metadata": {
        "colab": {
          "base_uri": "https://localhost:8080/"
        },
        "id": "I4bir2eJiSw-",
        "outputId": "5e1abdf2-6425-490b-da74-4a8ee4f7049f"
      },
      "source": [
        "xgb_clf = xgb.XGBClassifier(n_estimators=300,learning_rate=0.05,max_depth=6,objective='multi:softprob',random_state=10)\n",
        "xgb_clf.fit(xtrain,y_train,sample_weight=weights)\n",
        "\n",
        "preds = xgb_clf.predict(xtest)\n",
        "\n",
        "print('Confusion Matrix')\n",
        "print('*'*30)\n",
        "cm = confusion_matrix(y_test,preds)\n",
        "print(cm)\n",
        "\n",
        "print('\\n')\n",
        "print('Classification Report')\n",
        "print('*'*30)\n",
        "print(classification_report(y_test,preds))"
      ],
      "execution_count": 15,
      "outputs": [
        {
          "output_type": "stream",
          "text": [
            "Confusion Matrix\n",
            "******************************\n",
            "[[  6  11  10   5  10]\n",
            " [  5   5  13  16  17]\n",
            " [  2   7  44  55  41]\n",
            " [  2  13  66 174 180]\n",
            " [ 12  23  97 274 965]]\n",
            "\n",
            "\n",
            "Classification Report\n",
            "******************************\n",
            "              precision    recall  f1-score   support\n",
            "\n",
            "           1       0.22      0.14      0.17        42\n",
            "           2       0.08      0.09      0.09        56\n",
            "           3       0.19      0.30      0.23       149\n",
            "           4       0.33      0.40      0.36       435\n",
            "           5       0.80      0.70      0.75      1371\n",
            "\n",
            "    accuracy                           0.58      2053\n",
            "   macro avg       0.33      0.33      0.32      2053\n",
            "weighted avg       0.62      0.58      0.60      2053\n",
            "\n"
          ],
          "name": "stdout"
        }
      ]
    }
  ]
}